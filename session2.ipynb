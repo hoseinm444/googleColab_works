{
  "nbformat": 4,
  "nbformat_minor": 0,
  "metadata": {
    "colab": {
      "provenance": [],
      "authorship_tag": "ABX9TyM+wmFIFHk/dIdPqXgR03nh",
      "include_colab_link": true
    },
    "kernelspec": {
      "name": "python3",
      "display_name": "Python 3"
    },
    "language_info": {
      "name": "python"
    }
  },
  "cells": [
    {
      "cell_type": "markdown",
      "metadata": {
        "id": "view-in-github",
        "colab_type": "text"
      },
      "source": [
        "<a href=\"https://colab.research.google.com/github/hoseinm444/googleColab_works/blob/main/session2.ipynb\" target=\"_parent\"><img src=\"https://colab.research.google.com/assets/colab-badge.svg\" alt=\"Open In Colab\"/></a>"
      ]
    },
    {
      "cell_type": "markdown",
      "source": [
        "\n",
        "\n",
        "> Indented block\n",
        "#exersice 1\n"
      ],
      "metadata": {
        "id": "JSmGBB4M4k1N"
      }
    },
    {
      "cell_type": "code",
      "source": [
        "import numpy as np\n",
        "import pandas as pd\n",
        "import matplotlib.pyplot as plt\n",
        "\n",
        "df=pd.read_csv(\"housing.csv\")\n"
      ],
      "metadata": {
        "id": "jbuY8NZxjlOW"
      },
      "execution_count": 3,
      "outputs": []
    },
    {
      "cell_type": "code",
      "source": [
        "df.info()"
      ],
      "metadata": {
        "id": "dqHGn-jvjrbh"
      },
      "execution_count": null,
      "outputs": []
    },
    {
      "cell_type": "code",
      "source": [
        "df.hist(bins=40,figsize=(11,7))"
      ],
      "metadata": {
        "id": "pdSxHReb4IEL"
      },
      "execution_count": null,
      "outputs": []
    },
    {
      "cell_type": "code",
      "source": [
        "##تقسیم داده به train , test -episode 13"
      ],
      "metadata": {
        "id": "BKK4NcJE4hA5"
      },
      "execution_count": 12,
      "outputs": []
    },
    {
      "cell_type": "code",
      "source": [
        "np.random.permutation(len(df))"
      ],
      "metadata": {
        "colab": {
          "base_uri": "https://localhost:8080/"
        },
        "id": "SIMxEsXNH7kZ",
        "outputId": "26540fd9-6b02-4ace-ea3a-1d824ce8b6b9"
      },
      "execution_count": 7,
      "outputs": [
        {
          "output_type": "execute_result",
          "data": {
            "text/plain": [
              "array([15374,  2499, 20108, ...,  1055, 11803, 16333])"
            ]
          },
          "metadata": {},
          "execution_count": 7
        }
      ]
    },
    {
      "cell_type": "code",
      "source": [
        "random_indices=np.random.permutation(len(df))\n",
        "test_set_Size=int(len(df)*0.2)\n",
        "test_random_indices=random_indices[:test_set_Size]\n",
        "train_random_indices=random_indices[test_set_Size:]\n",
        "df.iloc[train_random_indices]"
      ],
      "metadata": {
        "id": "FwM1CamaJBR3"
      },
      "execution_count": null,
      "outputs": []
    },
    {
      "cell_type": "markdown",
      "source": [
        "#تبدیل مراحل قبل به تابع"
      ],
      "metadata": {
        "id": "cpmGSDMEJ4dB"
      }
    },
    {
      "cell_type": "code",
      "source": [
        "def shuffle_and_spilit_df(df,test_ratio):\n",
        "   random_indices=np.random.permutation(len(df))\n",
        "   test_set_Size=int(len(df)*test_ratio)\n",
        "   test_random_indices=random_indices[:test_set_Size]\n",
        "   train_random_indices=random_indices[test_set_Size:]\n",
        "   return df.iloc[train_random_indices] , df.iloc[test_random_indices]"
      ],
      "metadata": {
        "id": "_qzs-wZCJ3Jn"
      },
      "execution_count": 11,
      "outputs": []
    },
    {
      "cell_type": "code",
      "source": [
        "test_set=shuffle_and_spilit_df(df,0.2)"
      ],
      "metadata": {
        "id": "z2Sb9NzdK7w5"
      },
      "execution_count": 13,
      "outputs": []
    }
  ]
}