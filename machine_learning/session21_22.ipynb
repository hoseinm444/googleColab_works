{
  "nbformat": 4,
  "nbformat_minor": 0,
  "metadata": {
    "colab": {
      "provenance": [],
      "authorship_tag": "ABX9TyOcC8YBx+W5bwZo8N/PY//p",
      "include_colab_link": true
    },
    "kernelspec": {
      "name": "python3",
      "display_name": "Python 3"
    },
    "language_info": {
      "name": "python"
    }
  },
  "cells": [
    {
      "cell_type": "markdown",
      "metadata": {
        "id": "view-in-github",
        "colab_type": "text"
      },
      "source": [
        "<a href=\"https://colab.research.google.com/github/hoseinm444/googleColab_works/blob/machine_learning_exersise/machine_learning/session21_22.ipynb\" target=\"_parent\"><img src=\"https://colab.research.google.com/assets/colab-badge.svg\" alt=\"Open In Colab\"/></a>"
      ]
    },
    {
      "cell_type": "markdown",
      "source": [
        "#Session 21:missing value"
      ],
      "metadata": {
        "id": "fwvEkcMyTJwt"
      }
    },
    {
      "cell_type": "markdown",
      "source": [
        "##جداسازی فیچرها وتارگت ها از هم در دیتاست"
      ],
      "metadata": {
        "id": "Ymb7Tc3nTndj"
      }
    },
    {
      "cell_type": "code",
      "source": [
        "import numpy as np\n",
        "import pandas as pd\n",
        "import matplotlib.pyplot as plt\n",
        "\n",
        "import seaborn as sns\n",
        "\n",
        "df = pd.read_csv(\"housing.csv\")"
      ],
      "metadata": {
        "id": "oaPvdCrYTjJM"
      },
      "execution_count": 2,
      "outputs": []
    },
    {
      "cell_type": "markdown",
      "source": [
        "##ایجاد داده ترین و طبقه بندی مقادیر  به نسبت درست"
      ],
      "metadata": {
        "id": "B2s1xY4Yc9M0"
      }
    },
    {
      "cell_type": "code",
      "source": [
        "df[\"median_income_categories\"] =pd.cut(df[\"median_income\"], bins=[0.0,1.5,3.0,4.5,6,np.inf],labels=[1,2,3,4,5])"
      ],
      "metadata": {
        "id": "rTP3NEkiVTp7"
      },
      "execution_count": 3,
      "outputs": []
    },
    {
      "cell_type": "code",
      "source": [
        "from sklearn.model_selection import train_test_split\n",
        "\n",
        "\n",
        "str_train_set, str_test_set= train_test_split(df,\n",
        "                                              test_size = 0.2,\n",
        "                                              stratify=  df[\"median_income_categories\"],\n",
        "                                              random_state= 40)"
      ],
      "metadata": {
        "id": "yTbrHNadW_W7"
      },
      "execution_count": 4,
      "outputs": []
    },
    {
      "cell_type": "code",
      "source": [
        "str_train_set =str_train_set.drop(\"median_income_categories\",axis=1)\n",
        "str_test_set =str_test_set.drop(\"median_income_categories\",axis=1)"
      ],
      "metadata": {
        "id": "bOC650plWmtf"
      },
      "execution_count": 5,
      "outputs": []
    },
    {
      "cell_type": "code",
      "source": [
        "train=str_train_set"
      ],
      "metadata": {
        "id": "teObbCY_U6Xc"
      },
      "execution_count": 6,
      "outputs": []
    },
    {
      "cell_type": "code",
      "source": [
        "train_features= train.drop(\"median_house_value\",axis=1)\n",
        "train_target= train[\"median_house_value\"]\n",
        "train_target"
      ],
      "metadata": {
        "colab": {
          "base_uri": "https://localhost:8080/"
        },
        "id": "Nqou_MWr8gpC",
        "outputId": "b0fb7321-0769-408c-961a-f71a47088a63"
      },
      "execution_count": 7,
      "outputs": [
        {
          "output_type": "execute_result",
          "data": {
            "text/plain": [
              "16415    158300.0\n",
              "1279     253900.0\n",
              "7741     209000.0\n",
              "4425     137500.0\n",
              "1283      93800.0\n",
              "           ...   \n",
              "1221     104000.0\n",
              "12640     75400.0\n",
              "5747     354700.0\n",
              "16224     84600.0\n",
              "8967     336000.0\n",
              "Name: median_house_value, Length: 16512, dtype: float64"
            ]
          },
          "metadata": {},
          "execution_count": 7
        }
      ]
    },
    {
      "cell_type": "code",
      "source": [
        "train_features.info()"
      ],
      "metadata": {
        "colab": {
          "base_uri": "https://localhost:8080/"
        },
        "id": "lAmUlWCU9KEC",
        "outputId": "bb014fcb-4a04-45eb-d78d-c9867eba2e96"
      },
      "execution_count": 8,
      "outputs": [
        {
          "output_type": "stream",
          "name": "stdout",
          "text": [
            "<class 'pandas.core.frame.DataFrame'>\n",
            "Int64Index: 16512 entries, 16415 to 8967\n",
            "Data columns (total 9 columns):\n",
            " #   Column              Non-Null Count  Dtype  \n",
            "---  ------              --------------  -----  \n",
            " 0   longitude           16512 non-null  float64\n",
            " 1   latitude            16512 non-null  float64\n",
            " 2   housing_median_age  16512 non-null  float64\n",
            " 3   total_rooms         16512 non-null  float64\n",
            " 4   total_bedrooms      16344 non-null  float64\n",
            " 5   population          16512 non-null  float64\n",
            " 6   households          16512 non-null  float64\n",
            " 7   median_income       16512 non-null  float64\n",
            " 8   ocean_proximity     16512 non-null  object \n",
            "dtypes: float64(8), object(1)\n",
            "memory usage: 1.3+ MB\n"
          ]
        }
      ]
    },
    {
      "cell_type": "markdown",
      "source": [
        "##رویکرد حذف سطر Na"
      ],
      "metadata": {
        "id": "OzC5BNtH9ZTx"
      }
    },
    {
      "cell_type": "code",
      "source": [
        "train_features.dropna(subset=[\"coulmn with Na value \"])"
      ],
      "metadata": {
        "id": "HUNl-ptY9X-N"
      },
      "execution_count": null,
      "outputs": []
    },
    {
      "cell_type": "markdown",
      "source": [
        "#Session 22 :پر کردن missing value"
      ],
      "metadata": {
        "id": "_XlLzRu4TN3z"
      }
    },
    {
      "cell_type": "markdown",
      "source": [
        "##مقادیری که نیستن جاشون میانه اون ستون و میزاریم\n",
        "---\n",
        "\n"
      ],
      "metadata": {
        "id": "lGFvahuwaABU"
      }
    },
    {
      "cell_type": "code",
      "source": [
        "totals_bedrooms_median= train_features[\"total_bedrooms\"].median()"
      ],
      "metadata": {
        "id": "fggrlkXmZWjN"
      },
      "execution_count": 9,
      "outputs": []
    },
    {
      "cell_type": "markdown",
      "source": [
        "##مقدار بالا رو به دیتا فریم می دهیم"
      ],
      "metadata": {
        "id": "nSgpkyQSC_kC"
      }
    },
    {
      "cell_type": "code",
      "source": [
        "train_features[\"total_bedrooms\"].fillna(totals_bedrooms_median)"
      ],
      "metadata": {
        "colab": {
          "base_uri": "https://localhost:8080/"
        },
        "id": "7BjEiIB5a8Ts",
        "outputId": "274ad14b-63d2-45ca-fb11-3a9a5475c8bd"
      },
      "execution_count": 11,
      "outputs": [
        {
          "output_type": "execute_result",
          "data": {
            "text/plain": [
              "16415     93.0\n",
              "1279     415.0\n",
              "7741     702.0\n",
              "4425      80.0\n",
              "1283      43.0\n",
              "         ...  \n",
              "1221     681.0\n",
              "12640    415.0\n",
              "5747     280.0\n",
              "16224    576.0\n",
              "8967     258.0\n",
              "Name: total_bedrooms, Length: 16512, dtype: float64"
            ]
          },
          "metadata": {},
          "execution_count": 11
        }
      ]
    }
  ]
}