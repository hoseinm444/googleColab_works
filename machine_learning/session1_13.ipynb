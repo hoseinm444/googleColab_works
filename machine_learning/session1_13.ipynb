{
  "nbformat": 4,
  "nbformat_minor": 0,
  "metadata": {
    "colab": {
      "provenance": [],
      "authorship_tag": "ABX9TyNQlY4zoq8c+DfNGWRg29JQ",
      "include_colab_link": true
    },
    "kernelspec": {
      "name": "python3",
      "display_name": "Python 3"
    },
    "language_info": {
      "name": "python"
    }
  },
  "cells": [
    {
      "cell_type": "markdown",
      "metadata": {
        "id": "view-in-github",
        "colab_type": "text"
      },
      "source": [
        "<a href=\"https://colab.research.google.com/github/hoseinm444/googleColab_works/blob/main/machine_learning/session1_13.ipynb\" target=\"_parent\"><img src=\"https://colab.research.google.com/assets/colab-badge.svg\" alt=\"Open In Colab\"/></a>"
      ]
    },
    {
      "cell_type": "code",
      "execution_count": 1,
      "metadata": {
        "id": "r4f48-HcUugP"
      },
      "outputs": [],
      "source": [
        "import numpy as np\n",
        "import pandas as pd\n",
        "import matplotlib.pyplot as plt\n",
        "\n",
        "df=pd.read_csv(\"housing.csv\")"
      ]
    },
    {
      "cell_type": "code",
      "source": [
        "df.info()"
      ],
      "metadata": {
        "id": "9w6eUtXsUzxl"
      },
      "execution_count": null,
      "outputs": []
    },
    {
      "cell_type": "code",
      "source": [
        "df.hist(bins=40,figsize=(11,7))"
      ],
      "metadata": {
        "id": "B3zuwES-U3Br"
      },
      "execution_count": null,
      "outputs": []
    },
    {
      "cell_type": "markdown",
      "source": [
        "##تقسیم داده به train , test -episode 13"
      ],
      "metadata": {
        "id": "p79phroEU5t6"
      }
    },
    {
      "cell_type": "code",
      "source": [
        "np.random.permutation(len(df))"
      ],
      "metadata": {
        "id": "Eg6SQ0DoU7Uq"
      },
      "execution_count": null,
      "outputs": []
    },
    {
      "cell_type": "code",
      "source": [
        "random_indices=np.random.permutation(len(df))\n",
        "test_set_Size=int(len(df)*0.2)\n",
        "test_random_indices=random_indices[:test_set_Size]\n",
        "train_random_indices=random_indices[test_set_Size:]\n",
        "df.iloc[train_random_indices]"
      ],
      "metadata": {
        "id": "HhvGtlUGU_RT"
      },
      "execution_count": null,
      "outputs": []
    },
    {
      "cell_type": "markdown",
      "source": [
        "###تبدیل مراحل قبل به تابع"
      ],
      "metadata": {
        "id": "D8miQg6BVDIq"
      }
    },
    {
      "cell_type": "code",
      "source": [
        "def shuffle_and_spilit_df(df,test_ratio):\n",
        "   random_indices=np.random.permutation(len(df))\n",
        "   test_set_Size=int(len(df)*test_ratio)\n",
        "   test_random_indices=random_indices[:test_set_Size]\n",
        "   train_random_indices=random_indices[test_set_Size:]\n",
        "   return df.iloc[train_random_indices] , df.iloc[test_random_indices]"
      ],
      "metadata": {
        "id": "4tDCtXlmVIQi"
      },
      "execution_count": 6,
      "outputs": []
    },
    {
      "cell_type": "code",
      "source": [
        "test_set=shuffle_and_spilit_df(df,0.2)"
      ],
      "metadata": {
        "id": "kEobQl-IVK7b"
      },
      "execution_count": 7,
      "outputs": []
    }
  ]
}