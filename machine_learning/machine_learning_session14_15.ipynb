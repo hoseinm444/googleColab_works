{
  "nbformat": 4,
  "nbformat_minor": 0,
  "metadata": {
    "colab": {
      "provenance": [],
      "authorship_tag": "ABX9TyOocjH+hwYb8jWLRT9OLNg7",
      "include_colab_link": true
    },
    "kernelspec": {
      "name": "python3",
      "display_name": "Python 3"
    },
    "language_info": {
      "name": "python"
    }
  },
  "cells": [
    {
      "cell_type": "markdown",
      "metadata": {
        "id": "view-in-github",
        "colab_type": "text"
      },
      "source": [
        "<a href=\"https://colab.research.google.com/github/hoseinm444/googleColab_works/blob/machine_learning_exersise/machine_learning/machine_learning_session14_15.ipynb\" target=\"_parent\"><img src=\"https://colab.research.google.com/assets/colab-badge.svg\" alt=\"Open In Colab\"/></a>"
      ]
    },
    {
      "cell_type": "markdown",
      "source": [
        "# بهبود تابعshuffle_spilit"
      ],
      "metadata": {
        "id": "EADfjlPLX4IC"
      }
    },
    {
      "cell_type": "code",
      "execution_count": 4,
      "metadata": {
        "id": "_KBKdIMQOj6q"
      },
      "outputs": [],
      "source": [
        "import numpy as np\n",
        "import pandas as pd\n",
        "import matplotlib.pyplot as plt\n",
        "from zlib import crc32\n",
        "\n",
        "df = pd.read_csv(\"housing.csv\")"
      ]
    },
    {
      "cell_type": "code",
      "source": [
        "np.random.seed(40)\n",
        "def shuffle_and_spilit_df(df,test_ratio):\n",
        "   random_indices = np.random.permutation(len(df))\n",
        "   test_set_Size = int(len(df)*test_ratio)\n",
        "   test_random_indices = random_indices[:test_set_Size]\n",
        "   train_random_indices = random_indices[test_set_Size:]\n",
        "   return df.iloc[train_random_indices] , df.iloc[test_random_indices]"
      ],
      "metadata": {
        "id": "Ppfnsru5Xf6c"
      },
      "execution_count": 3,
      "outputs": []
    },
    {
      "cell_type": "markdown",
      "source": [
        "##another solution:\n",
        "\n",
        "*   using zlib crc32\n",
        "\n",
        "\n",
        "\n",
        "\n",
        "\n"
      ],
      "metadata": {
        "id": "lAWzvhtcYW0y"
      }
    },
    {
      "cell_type": "code",
      "source": [
        "def is_identifier_in_test_set(identifier,test_ratio):\n",
        "   return crc32(np.int64(identifier))<test_ratio*2**32"
      ],
      "metadata": {
        "id": "TaRUgQgfYVQS"
      },
      "execution_count": 20,
      "outputs": []
    },
    {
      "cell_type": "code",
      "source": [
        "def spilit_train_test_with_identifier_hash(df,test_ratio,identifier_column):\n",
        "   identifiers = df[identifier_column]\n",
        "   in_test_set = identifiers.apply(lambda id_:is_identifier_in_test_set(id_,test_ratio))\n",
        "   return df.loc[~in_test_set] ,df.loc[in_test_set]"
      ],
      "metadata": {
        "id": "Tdt8-r-pt19g"
      },
      "execution_count": 34,
      "outputs": []
    },
    {
      "cell_type": "code",
      "source": [
        "df.reset_index()[\"index\"]"
      ],
      "metadata": {
        "id": "t9kfTJWUxOh2"
      },
      "execution_count": null,
      "outputs": []
    },
    {
      "cell_type": "code",
      "source": [
        "train_set , test_set = spilit_train_test_with_identifier_hash(df.reset_index(),0.2,\"index\")"
      ],
      "metadata": {
        "id": "CN3OnFa9wtlI"
      },
      "execution_count": 36,
      "outputs": []
    },
    {
      "cell_type": "markdown",
      "source": [
        "###session15\n"
      ],
      "metadata": {
        "id": "fZDXJb9GwmIt"
      }
    },
    {
      "cell_type": "markdown",
      "source": [
        "#استفاده از ستون های دیگر به عنوان identifier"
      ],
      "metadata": {
        "id": "UNQXxTXwQ5W-"
      }
    },
    {
      "cell_type": "code",
      "source": [
        "df_with_identifier=df\n",
        "df_with_identifier[\"identifier\"]=df[\"longitude\"]*1000+df[\"latitude\"]\n",
        "df_with_identifier"
      ],
      "metadata": {
        "id": "l-gWG1FxRA2e"
      },
      "execution_count": null,
      "outputs": []
    },
    {
      "cell_type": "code",
      "source": [
        "train_set , test_set = spilit_train_test_with_identifier_hash(df_with_identifier,0.2,\"identifier\")"
      ],
      "metadata": {
        "id": "isrbKSFyRtK_"
      },
      "execution_count": 38,
      "outputs": []
    },
    {
      "cell_type": "markdown",
      "source": [
        "#using sklearn"
      ],
      "metadata": {
        "id": "s1yRTVqLSDxP"
      }
    },
    {
      "cell_type": "code",
      "source": [
        "from sklearn.model_selection import train_test_split"
      ],
      "metadata": {
        "id": "x1krmpTwSIii"
      },
      "execution_count": 39,
      "outputs": []
    },
    {
      "cell_type": "code",
      "source": [
        "train_set , test_set = train_test_split(df,test_size=0.2,random_state=40)"
      ],
      "metadata": {
        "id": "n2rawX4zSSfl"
      },
      "execution_count": 40,
      "outputs": []
    }
  ]
}